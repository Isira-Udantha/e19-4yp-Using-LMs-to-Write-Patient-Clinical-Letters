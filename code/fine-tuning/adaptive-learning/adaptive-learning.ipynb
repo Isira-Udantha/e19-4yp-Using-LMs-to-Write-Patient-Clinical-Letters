{
 "cells": [
  {
   "cell_type": "code",
   "execution_count": 1,
   "id": "8a40099f-8c99-42ac-b919-967ce84129cd",
   "metadata": {},
   "outputs": [
    {
     "name": "stdout",
     "output_type": "stream",
     "text": [
      "Requirement already satisfied: transformers in /home/e19431/miniconda3/envs/venv/lib/python3.11/site-packages (4.53.2)\n",
      "Requirement already satisfied: datasets in /home/e19431/miniconda3/envs/venv/lib/python3.11/site-packages (3.6.0)\n",
      "Requirement already satisfied: peft in /home/e19431/miniconda3/envs/venv/lib/python3.11/site-packages (0.16.0)\n",
      "Requirement already satisfied: bitsandbytes in /home/e19431/miniconda3/envs/venv/lib/python3.11/site-packages (0.46.1)\n",
      "Requirement already satisfied: torch in /home/e19431/miniconda3/envs/venv/lib/python3.11/site-packages (2.7.1)\n",
      "Requirement already satisfied: accelerate in /home/e19431/miniconda3/envs/venv/lib/python3.11/site-packages (1.8.1)\n",
      "Requirement already satisfied: rouge_score in /home/e19431/miniconda3/envs/venv/lib/python3.11/site-packages (0.1.2)\n",
      "Requirement already satisfied: bert_score in /home/e19431/miniconda3/envs/venv/lib/python3.11/site-packages (0.3.13)\n",
      "Requirement already satisfied: filelock in /home/e19431/miniconda3/envs/venv/lib/python3.11/site-packages (from transformers) (3.18.0)\n",
      "Requirement already satisfied: huggingface-hub<1.0,>=0.30.0 in /home/e19431/miniconda3/envs/venv/lib/python3.11/site-packages (from transformers) (0.33.2)\n",
      "Requirement already satisfied: numpy>=1.17 in /home/e19431/miniconda3/envs/venv/lib/python3.11/site-packages (from transformers) (2.3.1)\n",
      "Requirement already satisfied: packaging>=20.0 in /home/e19431/miniconda3/envs/venv/lib/python3.11/site-packages (from transformers) (24.2)\n",
      "Requirement already satisfied: pyyaml>=5.1 in /home/e19431/miniconda3/envs/venv/lib/python3.11/site-packages (from transformers) (6.0.2)\n",
      "Requirement already satisfied: regex!=2019.12.17 in /home/e19431/miniconda3/envs/venv/lib/python3.11/site-packages (from transformers) (2024.11.6)\n",
      "Requirement already satisfied: requests in /home/e19431/miniconda3/envs/venv/lib/python3.11/site-packages (from transformers) (2.32.4)\n",
      "Requirement already satisfied: tokenizers<0.22,>=0.21 in /home/e19431/miniconda3/envs/venv/lib/python3.11/site-packages (from transformers) (0.21.2)\n",
      "Requirement already satisfied: safetensors>=0.4.3 in /home/e19431/miniconda3/envs/venv/lib/python3.11/site-packages (from transformers) (0.5.3)\n",
      "Requirement already satisfied: tqdm>=4.27 in /home/e19431/miniconda3/envs/venv/lib/python3.11/site-packages (from transformers) (4.67.1)\n",
      "Requirement already satisfied: fsspec>=2023.5.0 in /home/e19431/miniconda3/envs/venv/lib/python3.11/site-packages (from huggingface-hub<1.0,>=0.30.0->transformers) (2025.3.0)\n",
      "Requirement already satisfied: typing-extensions>=3.7.4.3 in /home/e19431/miniconda3/envs/venv/lib/python3.11/site-packages (from huggingface-hub<1.0,>=0.30.0->transformers) (4.12.2)\n",
      "Requirement already satisfied: hf-xet<2.0.0,>=1.1.2 in /home/e19431/miniconda3/envs/venv/lib/python3.11/site-packages (from huggingface-hub<1.0,>=0.30.0->transformers) (1.1.5)\n",
      "Requirement already satisfied: pyarrow>=15.0.0 in /home/e19431/miniconda3/envs/venv/lib/python3.11/site-packages (from datasets) (20.0.0)\n",
      "Requirement already satisfied: dill<0.3.9,>=0.3.0 in /home/e19431/miniconda3/envs/venv/lib/python3.11/site-packages (from datasets) (0.3.8)\n",
      "Requirement already satisfied: pandas in /home/e19431/miniconda3/envs/venv/lib/python3.11/site-packages (from datasets) (2.3.0)\n",
      "Requirement already satisfied: xxhash in /home/e19431/miniconda3/envs/venv/lib/python3.11/site-packages (from datasets) (3.5.0)\n",
      "Requirement already satisfied: multiprocess<0.70.17 in /home/e19431/miniconda3/envs/venv/lib/python3.11/site-packages (from datasets) (0.70.16)\n",
      "Requirement already satisfied: aiohttp!=4.0.0a0,!=4.0.0a1 in /home/e19431/miniconda3/envs/venv/lib/python3.11/site-packages (from fsspec[http]<=2025.3.0,>=2023.1.0->datasets) (3.12.13)\n",
      "Requirement already satisfied: psutil in /home/e19431/miniconda3/envs/venv/lib/python3.11/site-packages (from peft) (5.9.0)\n",
      "Requirement already satisfied: sympy>=1.13.3 in /home/e19431/miniconda3/envs/venv/lib/python3.11/site-packages (from torch) (1.14.0)\n",
      "Requirement already satisfied: networkx in /home/e19431/miniconda3/envs/venv/lib/python3.11/site-packages (from torch) (3.5)\n",
      "Requirement already satisfied: jinja2 in /home/e19431/miniconda3/envs/venv/lib/python3.11/site-packages (from torch) (3.1.6)\n",
      "Requirement already satisfied: nvidia-cuda-nvrtc-cu12==12.6.77 in /home/e19431/miniconda3/envs/venv/lib/python3.11/site-packages (from torch) (12.6.77)\n",
      "Requirement already satisfied: nvidia-cuda-runtime-cu12==12.6.77 in /home/e19431/miniconda3/envs/venv/lib/python3.11/site-packages (from torch) (12.6.77)\n",
      "Requirement already satisfied: nvidia-cuda-cupti-cu12==12.6.80 in /home/e19431/miniconda3/envs/venv/lib/python3.11/site-packages (from torch) (12.6.80)\n",
      "Requirement already satisfied: nvidia-cudnn-cu12==9.5.1.17 in /home/e19431/miniconda3/envs/venv/lib/python3.11/site-packages (from torch) (9.5.1.17)\n",
      "Requirement already satisfied: nvidia-cublas-cu12==12.6.4.1 in /home/e19431/miniconda3/envs/venv/lib/python3.11/site-packages (from torch) (12.6.4.1)\n",
      "Requirement already satisfied: nvidia-cufft-cu12==11.3.0.4 in /home/e19431/miniconda3/envs/venv/lib/python3.11/site-packages (from torch) (11.3.0.4)\n",
      "Requirement already satisfied: nvidia-curand-cu12==10.3.7.77 in /home/e19431/miniconda3/envs/venv/lib/python3.11/site-packages (from torch) (10.3.7.77)\n",
      "Requirement already satisfied: nvidia-cusolver-cu12==11.7.1.2 in /home/e19431/miniconda3/envs/venv/lib/python3.11/site-packages (from torch) (11.7.1.2)\n",
      "Requirement already satisfied: nvidia-cusparse-cu12==12.5.4.2 in /home/e19431/miniconda3/envs/venv/lib/python3.11/site-packages (from torch) (12.5.4.2)\n",
      "Requirement already satisfied: nvidia-cusparselt-cu12==0.6.3 in /home/e19431/miniconda3/envs/venv/lib/python3.11/site-packages (from torch) (0.6.3)\n",
      "Requirement already satisfied: nvidia-nccl-cu12==2.26.2 in /home/e19431/miniconda3/envs/venv/lib/python3.11/site-packages (from torch) (2.26.2)\n",
      "Requirement already satisfied: nvidia-nvtx-cu12==12.6.77 in /home/e19431/miniconda3/envs/venv/lib/python3.11/site-packages (from torch) (12.6.77)\n",
      "Requirement already satisfied: nvidia-nvjitlink-cu12==12.6.85 in /home/e19431/miniconda3/envs/venv/lib/python3.11/site-packages (from torch) (12.6.85)\n",
      "Requirement already satisfied: nvidia-cufile-cu12==1.11.1.6 in /home/e19431/miniconda3/envs/venv/lib/python3.11/site-packages (from torch) (1.11.1.6)\n",
      "Requirement already satisfied: triton==3.3.1 in /home/e19431/miniconda3/envs/venv/lib/python3.11/site-packages (from torch) (3.3.1)\n",
      "Requirement already satisfied: setuptools>=40.8.0 in /home/e19431/miniconda3/envs/venv/lib/python3.11/site-packages (from triton==3.3.1->torch) (78.1.1)\n",
      "Requirement already satisfied: absl-py in /home/e19431/miniconda3/envs/venv/lib/python3.11/site-packages (from rouge_score) (2.3.1)\n",
      "Requirement already satisfied: nltk in /home/e19431/miniconda3/envs/venv/lib/python3.11/site-packages (from rouge_score) (3.9.1)\n",
      "Requirement already satisfied: six>=1.14.0 in /home/e19431/miniconda3/envs/venv/lib/python3.11/site-packages (from rouge_score) (1.17.0)\n",
      "Requirement already satisfied: matplotlib in /home/e19431/miniconda3/envs/venv/lib/python3.11/site-packages (from bert_score) (3.10.3)\n",
      "Requirement already satisfied: aiohappyeyeballs>=2.5.0 in /home/e19431/miniconda3/envs/venv/lib/python3.11/site-packages (from aiohttp!=4.0.0a0,!=4.0.0a1->fsspec[http]<=2025.3.0,>=2023.1.0->datasets) (2.6.1)\n",
      "Requirement already satisfied: aiosignal>=1.1.2 in /home/e19431/miniconda3/envs/venv/lib/python3.11/site-packages (from aiohttp!=4.0.0a0,!=4.0.0a1->fsspec[http]<=2025.3.0,>=2023.1.0->datasets) (1.4.0)\n",
      "Requirement already satisfied: attrs>=17.3.0 in /home/e19431/miniconda3/envs/venv/lib/python3.11/site-packages (from aiohttp!=4.0.0a0,!=4.0.0a1->fsspec[http]<=2025.3.0,>=2023.1.0->datasets) (24.3.0)\n",
      "Requirement already satisfied: frozenlist>=1.1.1 in /home/e19431/miniconda3/envs/venv/lib/python3.11/site-packages (from aiohttp!=4.0.0a0,!=4.0.0a1->fsspec[http]<=2025.3.0,>=2023.1.0->datasets) (1.7.0)\n",
      "Requirement already satisfied: multidict<7.0,>=4.5 in /home/e19431/miniconda3/envs/venv/lib/python3.11/site-packages (from aiohttp!=4.0.0a0,!=4.0.0a1->fsspec[http]<=2025.3.0,>=2023.1.0->datasets) (6.6.3)\n",
      "Requirement already satisfied: propcache>=0.2.0 in /home/e19431/miniconda3/envs/venv/lib/python3.11/site-packages (from aiohttp!=4.0.0a0,!=4.0.0a1->fsspec[http]<=2025.3.0,>=2023.1.0->datasets) (0.3.2)\n",
      "Requirement already satisfied: yarl<2.0,>=1.17.0 in /home/e19431/miniconda3/envs/venv/lib/python3.11/site-packages (from aiohttp!=4.0.0a0,!=4.0.0a1->fsspec[http]<=2025.3.0,>=2023.1.0->datasets) (1.20.1)\n",
      "Requirement already satisfied: idna>=2.0 in /home/e19431/miniconda3/envs/venv/lib/python3.11/site-packages (from yarl<2.0,>=1.17.0->aiohttp!=4.0.0a0,!=4.0.0a1->fsspec[http]<=2025.3.0,>=2023.1.0->datasets) (3.7)\n",
      "Requirement already satisfied: python-dateutil>=2.8.2 in /home/e19431/miniconda3/envs/venv/lib/python3.11/site-packages (from pandas->datasets) (2.9.0.post0)\n",
      "Requirement already satisfied: pytz>=2020.1 in /home/e19431/miniconda3/envs/venv/lib/python3.11/site-packages (from pandas->datasets) (2025.2)\n",
      "Requirement already satisfied: tzdata>=2022.7 in /home/e19431/miniconda3/envs/venv/lib/python3.11/site-packages (from pandas->datasets) (2025.2)\n",
      "Requirement already satisfied: charset_normalizer<4,>=2 in /home/e19431/miniconda3/envs/venv/lib/python3.11/site-packages (from requests->transformers) (3.3.2)\n",
      "Requirement already satisfied: urllib3<3,>=1.21.1 in /home/e19431/miniconda3/envs/venv/lib/python3.11/site-packages (from requests->transformers) (2.5.0)\n",
      "Requirement already satisfied: certifi>=2017.4.17 in /home/e19431/miniconda3/envs/venv/lib/python3.11/site-packages (from requests->transformers) (2025.6.15)\n",
      "Requirement already satisfied: mpmath<1.4,>=1.1.0 in /home/e19431/miniconda3/envs/venv/lib/python3.11/site-packages (from sympy>=1.13.3->torch) (1.3.0)\n",
      "Requirement already satisfied: MarkupSafe>=2.0 in /home/e19431/miniconda3/envs/venv/lib/python3.11/site-packages (from jinja2->torch) (3.0.2)\n",
      "Requirement already satisfied: contourpy>=1.0.1 in /home/e19431/miniconda3/envs/venv/lib/python3.11/site-packages (from matplotlib->bert_score) (1.3.2)\n",
      "Requirement already satisfied: cycler>=0.10 in /home/e19431/miniconda3/envs/venv/lib/python3.11/site-packages (from matplotlib->bert_score) (0.12.1)\n",
      "Requirement already satisfied: fonttools>=4.22.0 in /home/e19431/miniconda3/envs/venv/lib/python3.11/site-packages (from matplotlib->bert_score) (4.58.5)\n",
      "Requirement already satisfied: kiwisolver>=1.3.1 in /home/e19431/miniconda3/envs/venv/lib/python3.11/site-packages (from matplotlib->bert_score) (1.4.8)\n",
      "Requirement already satisfied: pillow>=8 in /home/e19431/miniconda3/envs/venv/lib/python3.11/site-packages (from matplotlib->bert_score) (11.3.0)\n",
      "Requirement already satisfied: pyparsing>=2.3.1 in /home/e19431/miniconda3/envs/venv/lib/python3.11/site-packages (from matplotlib->bert_score) (3.2.3)\n",
      "Requirement already satisfied: click in /home/e19431/miniconda3/envs/venv/lib/python3.11/site-packages (from nltk->rouge_score) (8.2.1)\n",
      "Requirement already satisfied: joblib in /home/e19431/miniconda3/envs/venv/lib/python3.11/site-packages (from nltk->rouge_score) (1.5.1)\n",
      "Note: you may need to restart the kernel to use updated packages.\n"
     ]
    }
   ],
   "source": [
    "pip install transformers datasets peft bitsandbytes torch accelerate rouge_score bert_score"
   ]
  },
  {
   "cell_type": "code",
   "execution_count": 4,
   "id": "d4b90194-b27b-4ca4-9b70-948324db9805",
   "metadata": {},
   "outputs": [],
   "source": [
    "import os\n",
    "os.environ[\"CUDA_VISIBLE_DEVICES\"] = \"0\""
   ]
  },
  {
   "cell_type": "code",
   "execution_count": 3,
   "id": "5796c4c0-4b00-4580-af91-174257f121d0",
   "metadata": {},
   "outputs": [
    {
     "name": "stdout",
     "output_type": "stream",
     "text": [
      "Visible: 1\n"
     ]
    }
   ],
   "source": [
    "import torch\n",
    "print(\"Visible:\", torch.cuda.device_count())"
   ]
  },
  {
   "cell_type": "code",
   "execution_count": 5,
   "id": "d56499c7-eae6-411a-8cc6-c9091bc2027c",
   "metadata": {},
   "outputs": [
    {
     "name": "stdout",
     "output_type": "stream",
     "text": [
      "Using device: 0\n",
      "Device name: NVIDIA RTX A6000\n"
     ]
    }
   ],
   "source": [
    "print(\"Using device:\", torch.cuda.current_device())\n",
    "print(\"Device name:\", torch.cuda.get_device_name(torch.cuda.current_device()))"
   ]
  },
  {
   "cell_type": "code",
   "execution_count": 8,
   "id": "38be45ba-2f81-4618-8264-63f7c6a7c128",
   "metadata": {},
   "outputs": [],
   "source": [
    "# Install Adapter-transformers\n",
    "!pip install -q transformers datasets accelerate bitsandbytes peft"
   ]
  },
  {
   "cell_type": "code",
   "execution_count": 9,
   "id": "dd1f969f-5d7c-4f67-8664-20c9856749f4",
   "metadata": {},
   "outputs": [],
   "source": [
    "from peft import get_peft_model, LoraConfig, TaskType"
   ]
  },
  {
   "cell_type": "code",
   "execution_count": 10,
   "id": "056cb3a0-0781-4523-b5b4-3be4fd52f00a",
   "metadata": {},
   "outputs": [],
   "source": [
    "import torch\n",
    "from transformers import AutoModelForCausalLM, AutoTokenizer, TrainingArguments, Trainer, BitsAndBytesConfig\n",
    "from datasets import load_dataset\n",
    "from peft import LoraConfig, get_peft_model\n",
    "from rouge_score import rouge_scorer\n",
    "from bert_score import score\n",
    "import re\n",
    "import os\n",
    "import pandas as pd\n",
    "from transformers import pipeline\n",
    "from rouge_score import rouge_scorer\n",
    "from bert_score import score as bert_score\n",
    "import numpy as np"
   ]
  },
  {
   "cell_type": "code",
   "execution_count": 11,
   "id": "262a27d6-4f8b-4fa4-b293-7f091bf3f18c",
   "metadata": {},
   "outputs": [
    {
     "name": "stdout",
     "output_type": "stream",
     "text": [
      "Original Training Split Size: 9250\n",
      "Original Validation Split Size: 500\n",
      "Original Test Split Size: 250\n"
     ]
    }
   ],
   "source": [
    "# Load and preprocess the dataset\n",
    "# Load the full dataset\n",
    "dataset = load_dataset(\"omi-health/medical-dialogue-to-soap-summary\")\n",
    "print(\"Original Training Split Size:\", len(dataset[\"train\"]))\n",
    "print(\"Original Validation Split Size:\", len(dataset[\"validation\"]))\n",
    "print(\"Original Test Split Size:\", len(dataset[\"test\"]))\n",
    "\n",
    "# Preprocessing function\n",
    "def preprocess_dialogue(example):\n",
    "    dialogue = example[\"dialogue\"]\n",
    "    soap = example[\"soap\"]\n",
    "\n",
    "    # Clean text\n",
    "    dialogue = re.sub(r'[^A-Za-z0-9\\s.,:?-]', '', dialogue).lower()\n",
    "    soap = re.sub(r'[^A-Za-z0-9\\s.,:?-]', '', soap).lower()\n",
    "\n",
    "    # Add role tags\n",
    "    dialogue = dialogue.replace(\"Doctor:\", \"[Doctor]:\")\n",
    "    dialogue = dialogue.replace(\"Patient:\", \"[Patient]:\")\n",
    "\n",
    "    return {\"dialogue\": dialogue, \"soap\": soap}\n",
    "\n",
    "# Apply preprocessing\n",
    "processed_dataset = dataset.map(preprocess_dialogue)"
   ]
  },
  {
   "cell_type": "code",
   "execution_count": 12,
   "id": "4dd10e54-cadb-4a77-8619-7ce2468d8dcb",
   "metadata": {},
   "outputs": [
    {
     "data": {
      "application/vnd.jupyter.widget-view+json": {
       "model_id": "deb49eb90fcf46348ecd0b8e42e6aae7",
       "version_major": 2,
       "version_minor": 0
      },
      "text/plain": [
       "tokenizer_config.json: 0.00B [00:00, ?B/s]"
      ]
     },
     "metadata": {},
     "output_type": "display_data"
    },
    {
     "data": {
      "application/vnd.jupyter.widget-view+json": {
       "model_id": "c9c9859934de4abdb29a48e052eb4df3",
       "version_major": 2,
       "version_minor": 0
      },
      "text/plain": [
       "tokenizer.model:   0%|          | 0.00/500k [00:00<?, ?B/s]"
      ]
     },
     "metadata": {},
     "output_type": "display_data"
    },
    {
     "data": {
      "application/vnd.jupyter.widget-view+json": {
       "model_id": "fb0e75fd309d4ef99ee306dc08e3491f",
       "version_major": 2,
       "version_minor": 0
      },
      "text/plain": [
       "tokenizer.json: 0.00B [00:00, ?B/s]"
      ]
     },
     "metadata": {},
     "output_type": "display_data"
    },
    {
     "data": {
      "application/vnd.jupyter.widget-view+json": {
       "model_id": "10175dc081ca455b9aaa8f661658f02b",
       "version_major": 2,
       "version_minor": 0
      },
      "text/plain": [
       "special_tokens_map.json:   0%|          | 0.00/551 [00:00<?, ?B/s]"
      ]
     },
     "metadata": {},
     "output_type": "display_data"
    },
    {
     "data": {
      "application/vnd.jupyter.widget-view+json": {
       "model_id": "b07d44960b124efd98948f721a174e4b",
       "version_major": 2,
       "version_minor": 0
      },
      "text/plain": [
       "config.json:   0%|          | 0.00/608 [00:00<?, ?B/s]"
      ]
     },
     "metadata": {},
     "output_type": "display_data"
    },
    {
     "data": {
      "application/vnd.jupyter.widget-view+json": {
       "model_id": "1e514a3ab87941a8b3419870407b6030",
       "version_major": 2,
       "version_minor": 0
      },
      "text/plain": [
       "model.safetensors:   0%|          | 0.00/2.20G [00:00<?, ?B/s]"
      ]
     },
     "metadata": {},
     "output_type": "display_data"
    },
    {
     "data": {
      "application/vnd.jupyter.widget-view+json": {
       "model_id": "e376613877a3406a9ba740ed06d272d2",
       "version_major": 2,
       "version_minor": 0
      },
      "text/plain": [
       "generation_config.json:   0%|          | 0.00/124 [00:00<?, ?B/s]"
      ]
     },
     "metadata": {},
     "output_type": "display_data"
    },
    {
     "data": {
      "application/vnd.jupyter.widget-view+json": {
       "model_id": "5e788a3e51404e40858f8bfbdd3eccd1",
       "version_major": 2,
       "version_minor": 0
      },
      "text/plain": [
       "Map:   0%|          | 0/9250 [00:00<?, ? examples/s]"
      ]
     },
     "metadata": {},
     "output_type": "display_data"
    },
    {
     "data": {
      "application/vnd.jupyter.widget-view+json": {
       "model_id": "7b1a145d60284c71a9a24351259b2fc9",
       "version_major": 2,
       "version_minor": 0
      },
      "text/plain": [
       "Map:   0%|          | 0/500 [00:00<?, ? examples/s]"
      ]
     },
     "metadata": {},
     "output_type": "display_data"
    },
    {
     "data": {
      "application/vnd.jupyter.widget-view+json": {
       "model_id": "6a4bdb4705034b60b6fffd0ffa76ebbf",
       "version_major": 2,
       "version_minor": 0
      },
      "text/plain": [
       "Map:   0%|          | 0/250 [00:00<?, ? examples/s]"
      ]
     },
     "metadata": {},
     "output_type": "display_data"
    },
    {
     "name": "stdout",
     "output_type": "stream",
     "text": [
      "Sample from train_dataset: dict_keys(['prompt', 'messages', 'messages_nosystem', 'input_ids', 'attention_mask', 'labels'])\n",
      "Sample 'labels' shape: torch.Size([512])\n",
      "Sample from eval_dataset: dict_keys(['prompt', 'messages', 'messages_nosystem', 'input_ids', 'attention_mask', 'labels'])\n"
     ]
    }
   ],
   "source": [
    "# Tokenize the dataset\n",
    "from transformers import AutoTokenizer, AutoModelForCausalLM\n",
    "\n",
    "tokenizer = AutoTokenizer.from_pretrained(\"TinyLlama/TinyLlama-1.1B-Chat-v1.0\")\n",
    "model = AutoModelForCausalLM.from_pretrained(\"TinyLlama/TinyLlama-1.1B-Chat-v1.0\")\n",
    "tokenizer.pad_token = tokenizer.eos_token\n",
    "\n",
    "# Tokenization function with labels\n",
    "def tokenize_function(examples):\n",
    "    # Combine dialogue and soap notes\n",
    "    texts = []\n",
    "    for dialogue, soap in zip(examples[\"dialogue\"], examples[\"soap\"]):\n",
    "        # Convert to strings if they are lists\n",
    "        if isinstance(dialogue, list):\n",
    "            dialogue = \" \".join(dialogue)\n",
    "        if isinstance(soap, list):\n",
    "            soap = \" \".join(soap)\n",
    "        texts.append(f\"{dialogue} {soap}\")\n",
    "\n",
    "    # Tokenize the batch\n",
    "    tokenized = tokenizer(\n",
    "        texts,\n",
    "        truncation=True,\n",
    "        padding=\"max_length\",\n",
    "        max_length=512,\n",
    "        return_tensors=\"pt\"\n",
    "    )\n",
    "\n",
    "    # Add labels\n",
    "    tokenized[\"labels\"] = tokenized[\"input_ids\"].clone()\n",
    "\n",
    "    return tokenized\n",
    "\n",
    "# Apply tokenization with batched processing\n",
    "tokenized_dataset = processed_dataset.map(\n",
    "    tokenize_function,\n",
    "    batched=True,\n",
    "    batch_size=1000,  # Adjust batch size as needed\n",
    "    remove_columns=[\"dialogue\", \"soap\"]  # Remove original columns\n",
    ")\n",
    "\n",
    "# Set format for PyTorch\n",
    "tokenized_dataset.set_format(\"torch\")\n",
    "\n",
    "# Split into train and eval datasets\n",
    "train_dataset = tokenized_dataset[\"train\"]\n",
    "eval_dataset = tokenized_dataset[\"validation\"]\n",
    "\n",
    "# Debug: Verify 'labels' key\n",
    "print(\"Sample from train_dataset:\", train_dataset[0].keys())\n",
    "print(\"Sample 'labels' shape:\", train_dataset[0][\"labels\"].shape)\n",
    "print(\"Sample from eval_dataset:\", eval_dataset[0].keys())"
   ]
  },
  {
   "cell_type": "code",
   "execution_count": 13,
   "id": "94ae0065-b8a9-44b8-9f12-5268333543c0",
   "metadata": {},
   "outputs": [
    {
     "name": "stdout",
     "output_type": "stream",
     "text": [
      "trainable params: 1,126,400 || all params: 1,101,174,784 || trainable%: 0.1023\n"
     ]
    }
   ],
   "source": [
    "# Load the model\n",
    "model_name = \"TinyLlama/TinyLlama-1.1B-Chat-v1.0\"\n",
    "tokenizer = AutoTokenizer.from_pretrained(model_name)\n",
    "tokenizer.pad_token = tokenizer.eos_token\n",
    "\n",
    "model = AutoModelForCausalLM.from_pretrained(\n",
    "    model_name,\n",
    "    device_map=\"auto\",\n",
    "    torch_dtype=torch.float16\n",
    ")\n",
    "\n",
    "# Apply LoRA Adapters (PEFT)\n",
    "lora_config = LoraConfig(\n",
    "    r=8,                           # Rank: How small the adapter is\n",
    "    lora_alpha=32,                 # Scaling factor\n",
    "    target_modules=[\"q_proj\", \"v_proj\"],  # Adapter inside attention layers\n",
    "    lora_dropout=0.05,              # Dropout for regularization\n",
    "    bias=\"none\",\n",
    "    task_type=TaskType.CAUSAL_LM    # Because we are doing language modeling\n",
    ")\n",
    "\n",
    "model = get_peft_model(model, lora_config)\n",
    "\n",
    "model.print_trainable_parameters()"
   ]
  },
  {
   "cell_type": "code",
   "execution_count": 14,
   "id": "f4f3e808-2c39-4d67-9e77-a603d2b52105",
   "metadata": {},
   "outputs": [],
   "source": [
    "# Clear GPU memory\n",
    "torch.cuda.empty_cache()"
   ]
  },
  {
   "cell_type": "code",
   "execution_count": 15,
   "id": "e4707963-f420-450a-99c1-bcaf5748d352",
   "metadata": {},
   "outputs": [
    {
     "name": "stderr",
     "output_type": "stream",
     "text": [
      "/tmp/ipykernel_4163000/2677844826.py:21: FutureWarning: `tokenizer` is deprecated and will be removed in version 5.0.0 for `Trainer.__init__`. Use `processing_class` instead.\n",
      "  trainer = Trainer(\n",
      "No label_names provided for model class `PeftModelForCausalLM`. Since `PeftModel` hides base models input arguments, if label_names is not given, label_names can't be set automatically within `Trainer`. Note that empty label_names list will be used instead.\n"
     ]
    },
    {
     "data": {
      "text/html": [
       "\n",
       "    <div>\n",
       "      \n",
       "      <progress value='6939' max='6939' style='width:300px; height:20px; vertical-align: middle;'></progress>\n",
       "      [6939/6939 28:38, Epoch 3/3]\n",
       "    </div>\n",
       "    <table border=\"1\" class=\"dataframe\">\n",
       "  <thead>\n",
       " <tr style=\"text-align: left;\">\n",
       "      <th>Epoch</th>\n",
       "      <th>Training Loss</th>\n",
       "      <th>Validation Loss</th>\n",
       "    </tr>\n",
       "  </thead>\n",
       "  <tbody>\n",
       "    <tr>\n",
       "      <td>1</td>\n",
       "      <td>1.519400</td>\n",
       "      <td>1.500445</td>\n",
       "    </tr>\n",
       "    <tr>\n",
       "      <td>2</td>\n",
       "      <td>1.487000</td>\n",
       "      <td>1.480144</td>\n",
       "    </tr>\n",
       "    <tr>\n",
       "      <td>3</td>\n",
       "      <td>1.476700</td>\n",
       "      <td>1.473941</td>\n",
       "    </tr>\n",
       "  </tbody>\n",
       "</table><p>"
      ],
      "text/plain": [
       "<IPython.core.display.HTML object>"
      ]
     },
     "metadata": {},
     "output_type": "display_data"
    },
    {
     "name": "stdout",
     "output_type": "stream",
     "text": [
      "Fine-tuning complete! Only Adapter was trained and saved.\n"
     ]
    }
   ],
   "source": [
    "# Fine tune the model\n",
    "# Set Up TrainingArguments\n",
    "training_args = TrainingArguments(\n",
    "    output_dir=\"./results\",\n",
    "    num_train_epochs=3,\n",
    "    per_device_train_batch_size=4,\n",
    "    per_device_eval_batch_size=4,\n",
    "    eval_strategy=\"epoch\",\n",
    "    save_strategy=\"epoch\",\n",
    "    logging_steps=10,\n",
    "    learning_rate=1e-4,\n",
    "    warmup_steps=100,\n",
    "    weight_decay=0.01,\n",
    "    load_best_model_at_end=True,\n",
    "    report_to=\"none\",\n",
    "    save_total_limit=2,\n",
    "    fp16=True\n",
    ")\n",
    "\n",
    "# Initialize Trainer\n",
    "trainer = Trainer(\n",
    "    model=model,\n",
    "    args=training_args,\n",
    "    train_dataset=train_dataset,\n",
    "    eval_dataset=eval_dataset,\n",
    "    tokenizer=tokenizer\n",
    ")\n",
    "\n",
    "# Train the model (only the adapter will be updated)\n",
    "trainer.train()\n",
    "\n",
    "# Save the LoRA Adapter\n",
    "model.save_pretrained(\"fine_tuned_adapter_peft\")\n",
    "tokenizer.save_pretrained(\"fine_tuned_adapter_peft\")\n",
    "\n",
    "print(\"Fine-tuning complete! Only Adapter was trained and saved.\")"
   ]
  },
  {
   "cell_type": "code",
   "execution_count": 16,
   "id": "93462fbc-31ce-440d-a28a-b0a5a8990d50",
   "metadata": {},
   "outputs": [],
   "source": [
    "# Clear memory after training\n",
    "del trainer, model\n",
    "torch.cuda.empty_cache()"
   ]
  },
  {
   "cell_type": "code",
   "execution_count": 17,
   "id": "ea0fcc97-1651-4f9c-bcdf-6302bccdac36",
   "metadata": {},
   "outputs": [],
   "source": [
    "# Load the model for evaluation\n",
    "from peft import PeftModel\n",
    "from transformers import AutoModelForCausalLM, AutoTokenizer\n",
    "\n",
    "# Load model and adapter\n",
    "base_model_name = \"TinyLlama/TinyLlama-1.1B-Chat-v1.0\"\n",
    "adapter_path = \"fine_tuned_adapter_peft\"\n",
    "\n",
    "# Load base model\n",
    "base_model = AutoModelForCausalLM.from_pretrained(\n",
    "    base_model_name,\n",
    "    device_map=\"auto\",\n",
    "    torch_dtype=torch.float16\n",
    ")\n",
    "\n",
    "# Attach adapter\n",
    "model = PeftModel.from_pretrained(base_model, adapter_path)\n",
    "\n",
    "# Load tokenizer\n",
    "tokenizer = AutoTokenizer.from_pretrained(base_model_name)\n",
    "tokenizer.pad_token = tokenizer.eos_token\n",
    "\n",
    "# Set model to evaluation mode\n",
    "model.eval()\n",
    "\n",
    "# Load the test split\n",
    "dataset = load_dataset(\"omi-health/medical-dialogue-to-soap-summary\", split=\"test\")"
   ]
  },
  {
   "cell_type": "code",
   "execution_count": 18,
   "id": "1303bc2d-8158-4683-ad0c-6cf31550eb78",
   "metadata": {},
   "outputs": [
    {
     "name": "stderr",
     "output_type": "stream",
     "text": [
      "Generating SOAP notes: 100%|██████████████| 100/100 [12:55<00:00,  7.76s/it]"
     ]
    },
    {
     "name": "stdout",
     "output_type": "stream",
     "text": [
      "Successfully generated 100 SOAP notes!\n",
      "Saved to: adaptive-learning-results.csv\n"
     ]
    },
    {
     "name": "stderr",
     "output_type": "stream",
     "text": [
      "\n"
     ]
    }
   ],
   "source": [
    "# Generate predictions for evaluation\n",
    "# Load the original dataset (not the tokenized one)\n",
    "original_dataset = load_dataset(\"omi-health/medical-dialogue-to-soap-summary\", split=\"validation\")\n",
    "\n",
    "# Take 100 samples (same seed for reproducibility)\n",
    "sampled_dialogues = original_dataset.shuffle(seed=42).select(range(100))\n",
    "\n",
    "# Define the generation function (updated to handle the dataset format)\n",
    "def generate_soap(dialogue, max_new_tokens=300):\n",
    "    # Create a prompt that matches your training format\n",
    "    prompt = f\"Summarize this medical dialogue into a SOAP note:\\n\\n{dialogue}\\n\\nSOAP Note:\"\n",
    "\n",
    "    inputs = tokenizer(prompt, return_tensors=\"pt\", truncation=True, max_length=512).to(model.device)\n",
    "\n",
    "    with torch.no_grad():\n",
    "        outputs = model.generate(\n",
    "            **inputs,\n",
    "            max_new_tokens=max_new_tokens,\n",
    "            temperature=0.7,\n",
    "            top_p=0.9,\n",
    "            do_sample=True,\n",
    "            repetition_penalty=1.2,\n",
    "            pad_token_id=tokenizer.eos_token_id\n",
    "        )\n",
    "\n",
    "    # Extract just the generated part (after the prompt)\n",
    "    full_text = tokenizer.decode(outputs[0], skip_special_tokens=True)\n",
    "    generated_part = full_text[len(prompt):].strip()  # Remove the prompt\n",
    "    return generated_part\n",
    "\n",
    "# Generate and save results\n",
    "import pandas as pd\n",
    "from tqdm import tqdm \n",
    "\n",
    "results = []\n",
    "for idx, sample in enumerate(tqdm(sampled_dialogues, desc=\"Generating SOAP notes\")):\n",
    "    try:\n",
    "        dialogue = sample[\"dialogue\"]\n",
    "        soap = generate_soap(dialogue)\n",
    "\n",
    "        results.append({\n",
    "            \"id\": idx,\n",
    "            \"dialogue\": dialogue,\n",
    "            \"generated_soap\": soap\n",
    "        })\n",
    "    except Exception as e:\n",
    "        print(f\"Error processing sample {idx}: {str(e)}\")\n",
    "        continue\n",
    "\n",
    "# Convert to DataFrame and save\n",
    "df_results = pd.DataFrame(results)\n",
    "df_results.to_csv(\"adaptive-learning-results.csv\", index=False)\n",
    "\n",
    "print(f\"Successfully generated {len(results)} SOAP notes!\")\n",
    "print(f\"Saved to: adaptive-learning-results.csv\")"
   ]
  },
  {
   "cell_type": "code",
   "execution_count": 19,
   "id": "0a508f61-6817-42d7-8ae9-0c2c11f86a3f",
   "metadata": {},
   "outputs": [
    {
     "name": "stdout",
     "output_type": "stream",
     "text": [
      "ROUGE-1 Average: 0.0764\n",
      "ROUGE-2 Average: 0.0105\n",
      "ROUGE-L Average: 0.0467\n"
     ]
    },
    {
     "name": "stderr",
     "output_type": "stream",
     "text": [
      "Some weights of RobertaModel were not initialized from the model checkpoint at roberta-large and are newly initialized: ['pooler.dense.bias', 'pooler.dense.weight']\n",
      "You should probably TRAIN this model on a down-stream task to be able to use it for predictions and inference.\n"
     ]
    },
    {
     "name": "stdout",
     "output_type": "stream",
     "text": [
      "calculating scores...\n",
      "computing bert embedding.\n"
     ]
    },
    {
     "data": {
      "application/vnd.jupyter.widget-view+json": {
       "model_id": "315f40f612a249db8f66930c41689617",
       "version_major": 2,
       "version_minor": 0
      },
      "text/plain": [
       "  0%|          | 0/3 [00:00<?, ?it/s]"
      ]
     },
     "metadata": {},
     "output_type": "display_data"
    },
    {
     "name": "stdout",
     "output_type": "stream",
     "text": [
      "computing greedy matching.\n"
     ]
    },
    {
     "data": {
      "application/vnd.jupyter.widget-view+json": {
       "model_id": "dbb21ddb5ab44c3fa924f53273dd8c49",
       "version_major": 2,
       "version_minor": 0
      },
      "text/plain": [
       "  0%|          | 0/2 [00:00<?, ?it/s]"
      ]
     },
     "metadata": {},
     "output_type": "display_data"
    },
    {
     "name": "stdout",
     "output_type": "stream",
     "text": [
      "done in 4.34 seconds, 23.06 sentences/sec\n",
      "BERTScore F1 Average: 0.5497\n"
     ]
    },
    {
     "name": "stderr",
     "output_type": "stream",
     "text": [
      "Warning: Empty candidate sentence detected; setting raw BERTscores to 0.\n",
      "Warning: Empty candidate sentence detected; setting raw BERTscores to 0.\n"
     ]
    }
   ],
   "source": [
    "from rouge_score import rouge_scorer\n",
    "from bert_score import score as bert_score\n",
    "\n",
    "# Extract ground-truth and predictions\n",
    "ground_truths = [sample[\"soap\"] for sample in sampled_dialogues]\n",
    "predictions = [item[\"generated_soap\"] for item in results]\n",
    "# Initialize scorer\n",
    "rouge = rouge_scorer.RougeScorer([\"rouge1\", \"rouge2\", \"rougeL\"], use_stemmer=True)\n",
    "\n",
    "# Store results\n",
    "rouge1_scores = []\n",
    "rouge2_scores = []\n",
    "rougeL_scores = []\n",
    "\n",
    "for ref, pred in zip(ground_truths, predictions):\n",
    "    scores = rouge.score(ref, pred)\n",
    "    rouge1_scores.append(scores[\"rouge1\"].fmeasure)\n",
    "    rouge2_scores.append(scores[\"rouge2\"].fmeasure)\n",
    "    rougeL_scores.append(scores[\"rougeL\"].fmeasure)\n",
    "\n",
    "# Calculate average\n",
    "print(f\"ROUGE-1 Average: {sum(rouge1_scores)/len(rouge1_scores):.4f}\")\n",
    "print(f\"ROUGE-2 Average: {sum(rouge2_scores)/len(rouge2_scores):.4f}\")\n",
    "print(f\"ROUGE-L Average: {sum(rougeL_scores)/len(rougeL_scores):.4f}\")\n",
    "# Use BERTScore\n",
    "P, R, F1 = bert_score(predictions, ground_truths, lang=\"en\", verbose=True)\n",
    "\n",
    "# Print average\n",
    "print(f\"BERTScore F1 Average: {F1.mean().item():.4f}\")"
   ]
  }
 ],
 "metadata": {
  "kernelspec": {
   "display_name": "Python 3 (ipykernel)",
   "language": "python",
   "name": "python3"
  },
  "language_info": {
   "codemirror_mode": {
    "name": "ipython",
    "version": 3
   },
   "file_extension": ".py",
   "mimetype": "text/x-python",
   "name": "python",
   "nbconvert_exporter": "python",
   "pygments_lexer": "ipython3",
   "version": "3.11.13"
  }
 },
 "nbformat": 4,
 "nbformat_minor": 5
}
