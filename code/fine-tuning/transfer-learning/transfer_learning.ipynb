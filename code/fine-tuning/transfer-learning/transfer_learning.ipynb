{
 "cells": [
  {
   "cell_type": "code",
   "execution_count": 2,
   "id": "0584f552-9777-4d8f-ba61-5ac6de908b6a",
   "metadata": {
    "scrolled": true
   },
   "outputs": [],
   "source": [
    "import os\n",
    "os.environ[\"CUDA_VISIBLE_DEVICES\"] = \"0\""
   ]
  },
  {
   "cell_type": "code",
   "execution_count": 12,
   "id": "cc45e857-60e4-4f6a-8703-d2518a347966",
   "metadata": {},
   "outputs": [
    {
     "name": "stdout",
     "output_type": "stream",
     "text": [
      "Visible: 1\n"
     ]
    }
   ],
   "source": [
    "import torch\n",
    "print(\"Visible:\", torch.cuda.device_count())"
   ]
  },
  {
   "cell_type": "code",
   "execution_count": 13,
   "id": "434bfb2c-90a2-4892-9846-0cd05b29e5df",
   "metadata": {},
   "outputs": [
    {
     "name": "stdout",
     "output_type": "stream",
     "text": [
      "Using device: 0\n",
      "Device name: NVIDIA RTX A6000\n"
     ]
    }
   ],
   "source": [
    "print(\"Using device:\", torch.cuda.current_device())\n",
    "print(\"Device name:\", torch.cuda.get_device_name(torch.cuda.current_device()))"
   ]
  },
  {
   "cell_type": "code",
   "execution_count": 14,
   "id": "897993ba-7ffe-42a4-bbfc-f1ac5140a5c0",
   "metadata": {},
   "outputs": [],
   "source": [
    "import re\n",
    "import torch\n",
    "from datasets import load_dataset\n",
    "from transformers import AutoTokenizer, AutoModelForSeq2SeqLM, TrainingArguments"
   ]
  },
  {
   "cell_type": "code",
   "execution_count": 3,
   "id": "240f152a-4b7a-497f-9b3b-40e8c0d77ce7",
   "metadata": {},
   "outputs": [
    {
     "name": "stdout",
     "output_type": "stream",
     "text": [
      "Collecting scikit-learn\n",
      "  Downloading scikit_learn-1.7.0-cp311-cp311-manylinux_2_17_x86_64.manylinux2014_x86_64.whl.metadata (17 kB)\n",
      "Requirement already satisfied: numpy>=1.22.0 in /home/e19431/miniconda3/envs/venv/lib/python3.11/site-packages (from scikit-learn) (2.3.1)\n",
      "Collecting scipy>=1.8.0 (from scikit-learn)\n",
      "  Downloading scipy-1.16.0-cp311-cp311-manylinux2014_x86_64.manylinux_2_17_x86_64.whl.metadata (61 kB)\n",
      "Requirement already satisfied: joblib>=1.2.0 in /home/e19431/miniconda3/envs/venv/lib/python3.11/site-packages (from scikit-learn) (1.5.1)\n",
      "Collecting threadpoolctl>=3.1.0 (from scikit-learn)\n",
      "  Downloading threadpoolctl-3.6.0-py3-none-any.whl.metadata (13 kB)\n",
      "Downloading scikit_learn-1.7.0-cp311-cp311-manylinux_2_17_x86_64.manylinux2014_x86_64.whl (12.9 MB)\n",
      "\u001b[2K   \u001b[90m━━━━━━━━━━━━━━━━━━━━━━━━━━━━━━━━━━━━━━━━\u001b[0m \u001b[32m12.9/12.9 MB\u001b[0m \u001b[31m4.0 MB/s\u001b[0m eta \u001b[36m0:00:00\u001b[0m00:01\u001b[0m00:01\u001b[0m\n",
      "Downloading scipy-1.16.0-cp311-cp311-manylinux2014_x86_64.manylinux_2_17_x86_64.whl (35.3 MB)\n",
      "\u001b[2K   \u001b[90m━━━━━━━━━━━━━━━━━━━━━━━━━━━━━━━━━━━━━━━━\u001b[0m \u001b[32m35.3/35.3 MB\u001b[0m \u001b[31m4.4 MB/s\u001b[0m eta \u001b[36m0:00:00\u001b[0m00:01\u001b[0m00:01\u001b[0m\n",
      "Downloading threadpoolctl-3.6.0-py3-none-any.whl (18 kB)\n",
      "Installing collected packages: threadpoolctl, scipy, scikit-learn\n",
      "\u001b[2K   \u001b[90m━━━━━━━━━━━━━━━━━━━━━━━━━━━━━━━━━━━━━━━━\u001b[0m \u001b[32m3/3\u001b[0m [scikit-learn][0m [scikit-learn]\n",
      "Successfully installed scikit-learn-1.7.0 scipy-1.16.0 threadpoolctl-3.6.0\n",
      "Note: you may need to restart the kernel to use updated packages.\n"
     ]
    }
   ],
   "source": [
    "pip install scikit-learn"
   ]
  },
  {
   "cell_type": "code",
   "execution_count": 16,
   "id": "44d74d6e-3bec-488f-b98b-95c9457ec8f6",
   "metadata": {},
   "outputs": [],
   "source": [
    "import json\n",
    "from sklearn.model_selection import train_test_split"
   ]
  },
  {
   "cell_type": "code",
   "execution_count": 17,
   "id": "668aa8f5-db96-481b-9394-227fdcd4d293",
   "metadata": {},
   "outputs": [],
   "source": [
    "# Load the raw JSON data\n",
    "with open(\"discharge_summaries.json\", \"r\", encoding=\"utf-8\") as file:\n",
    "    data = json.load(file)"
   ]
  },
  {
   "cell_type": "code",
   "execution_count": 18,
   "id": "77c0c3f7-916f-4d2e-a2c4-c48f50193e0b",
   "metadata": {},
   "outputs": [
    {
     "name": "stdout",
     "output_type": "stream",
     "text": [
      "Dataset split and saved as train.json, validation.json, and test.json.\n"
     ]
    }
   ],
   "source": [
    "#Split: 90% train, 5% validation, 5% test\n",
    "train_data, temp_data = train_test_split(data, test_size=0.10, random_state=42)\n",
    "val_data, test_data = train_test_split(temp_data, test_size=0.50, random_state=42)\n",
    "\n",
    "# Save each split to a seperate JSON file\n",
    "with open(\"train.json\", \"w\", encoding=\"utf-8\") as file:\n",
    "    json.dump(train_data, file, indent=2, ensure_ascii=False)\n",
    "with open(\"validation.json\", \"w\", encoding=\"utf-8\") as file:\n",
    "    json.dump(train_data, file, indent=2, ensure_ascii=False)\n",
    "with open(\"test.json\", \"w\", encoding=\"utf-8\") as file:\n",
    "    json.dump(train_data, file, indent=2, ensure_ascii=False)\n",
    "\n",
    "print(\"Dataset split and saved as train.json, validation.json, and test.json.\")"
   ]
  },
  {
   "cell_type": "code",
   "execution_count": 19,
   "id": "93e3ca6e-0519-4a85-b2a0-0bcfe02cf8d4",
   "metadata": {},
   "outputs": [
    {
     "name": "stdout",
     "output_type": "stream",
     "text": [
      "Train size: 1800\n",
      "Validation size: 100\n",
      "Test size: 100\n"
     ]
    }
   ],
   "source": [
    "# Optional: convert to Hugging Face DatasetDict for use in transformers pipeline\n",
    "from datasets import Dataset\n",
    "from datasets import DatasetDict\n",
    "\n",
    "dataset = DatasetDict({\n",
    "    \"train\": Dataset.from_list(train_data),\n",
    "    \"validation\": Dataset.from_list(val_data),\n",
    "    \"test\": Dataset.from_list(test_data)\n",
    "})\n",
    "\n",
    "# Check the sizes\n",
    "print(\"Train size:\", len(dataset[\"train\"]))\n",
    "print(\"Validation size:\", len(dataset[\"validation\"]))\n",
    "print(\"Test size:\", len(dataset[\"test\"]))"
   ]
  },
  {
   "cell_type": "code",
   "execution_count": 11,
   "id": "e6af9bb5-bb97-4111-aba2-9146b3ea2146",
   "metadata": {},
   "outputs": [
    {
     "name": "stderr",
     "output_type": "stream",
     "text": [
      "huggingface/tokenizers: The current process just got forked, after parallelism has already been used. Disabling parallelism to avoid deadlocks...\n",
      "To disable this warning, you can either:\n",
      "\t- Avoid using `tokenizers` before the fork if possible\n",
      "\t- Explicitly set the environment variable TOKENIZERS_PARALLELISM=(true | false)\n"
     ]
    },
    {
     "name": "stdout",
     "output_type": "stream",
     "text": [
      "Requirement already satisfied: transformers in /home/e19431/miniconda3/envs/venv/lib/python3.11/site-packages (4.53.1)\n",
      "Collecting transformers\n",
      "  Downloading transformers-4.53.2-py3-none-any.whl.metadata (40 kB)\n",
      "Requirement already satisfied: filelock in /home/e19431/miniconda3/envs/venv/lib/python3.11/site-packages (from transformers) (3.18.0)\n",
      "Requirement already satisfied: huggingface-hub<1.0,>=0.30.0 in /home/e19431/miniconda3/envs/venv/lib/python3.11/site-packages (from transformers) (0.33.2)\n",
      "Requirement already satisfied: numpy>=1.17 in /home/e19431/miniconda3/envs/venv/lib/python3.11/site-packages (from transformers) (2.3.1)\n",
      "Requirement already satisfied: packaging>=20.0 in /home/e19431/miniconda3/envs/venv/lib/python3.11/site-packages (from transformers) (24.2)\n",
      "Requirement already satisfied: pyyaml>=5.1 in /home/e19431/miniconda3/envs/venv/lib/python3.11/site-packages (from transformers) (6.0.2)\n",
      "Requirement already satisfied: regex!=2019.12.17 in /home/e19431/miniconda3/envs/venv/lib/python3.11/site-packages (from transformers) (2024.11.6)\n",
      "Requirement already satisfied: requests in /home/e19431/miniconda3/envs/venv/lib/python3.11/site-packages (from transformers) (2.32.4)\n",
      "Requirement already satisfied: tokenizers<0.22,>=0.21 in /home/e19431/miniconda3/envs/venv/lib/python3.11/site-packages (from transformers) (0.21.2)\n",
      "Requirement already satisfied: safetensors>=0.4.3 in /home/e19431/miniconda3/envs/venv/lib/python3.11/site-packages (from transformers) (0.5.3)\n",
      "Requirement already satisfied: tqdm>=4.27 in /home/e19431/miniconda3/envs/venv/lib/python3.11/site-packages (from transformers) (4.67.1)\n",
      "Requirement already satisfied: fsspec>=2023.5.0 in /home/e19431/miniconda3/envs/venv/lib/python3.11/site-packages (from huggingface-hub<1.0,>=0.30.0->transformers) (2025.3.0)\n",
      "Requirement already satisfied: typing-extensions>=3.7.4.3 in /home/e19431/miniconda3/envs/venv/lib/python3.11/site-packages (from huggingface-hub<1.0,>=0.30.0->transformers) (4.12.2)\n",
      "Requirement already satisfied: hf-xet<2.0.0,>=1.1.2 in /home/e19431/miniconda3/envs/venv/lib/python3.11/site-packages (from huggingface-hub<1.0,>=0.30.0->transformers) (1.1.5)\n",
      "Requirement already satisfied: charset_normalizer<4,>=2 in /home/e19431/miniconda3/envs/venv/lib/python3.11/site-packages (from requests->transformers) (3.3.2)\n",
      "Requirement already satisfied: idna<4,>=2.5 in /home/e19431/miniconda3/envs/venv/lib/python3.11/site-packages (from requests->transformers) (3.7)\n",
      "Requirement already satisfied: urllib3<3,>=1.21.1 in /home/e19431/miniconda3/envs/venv/lib/python3.11/site-packages (from requests->transformers) (2.5.0)\n",
      "Requirement already satisfied: certifi>=2017.4.17 in /home/e19431/miniconda3/envs/venv/lib/python3.11/site-packages (from requests->transformers) (2025.6.15)\n",
      "Downloading transformers-4.53.2-py3-none-any.whl (10.8 MB)\n",
      "\u001b[2K   \u001b[90m━━━━━━━━━━━━━━━━━━━━━━━━━━━━━━━━━━━━━━━━\u001b[0m \u001b[32m10.8/10.8 MB\u001b[0m \u001b[31m697.7 kB/s\u001b[0m eta \u001b[36m0:00:00\u001b[0m00:01\u001b[0m00:01\u001b[0m\n",
      "Installing collected packages: transformers\n",
      "  Attempting uninstall: transformers\n",
      "    Found existing installation: transformers 4.53.1\n",
      "    Uninstalling transformers-4.53.1:\n",
      "      Successfully uninstalled transformers-4.53.1\n",
      "Successfully installed transformers-4.53.2\n",
      "Note: you may need to restart the kernel to use updated packages.\n"
     ]
    }
   ],
   "source": [
    "pip install --upgrade transformers"
   ]
  },
  {
   "cell_type": "code",
   "execution_count": 20,
   "id": "3dca30b7-1c50-418d-84eb-a6ce06c0c0d6",
   "metadata": {},
   "outputs": [
    {
     "name": "stdout",
     "output_type": "stream",
     "text": [
      "Visible CUDA devices: 1\n"
     ]
    }
   ],
   "source": [
    "print(\"Visible CUDA devices:\", torch.cuda.device_count())"
   ]
  },
  {
   "cell_type": "code",
   "execution_count": 21,
   "id": "c60eea63-2b50-4705-85aa-63423d55e514",
   "metadata": {},
   "outputs": [
    {
     "name": "stdout",
     "output_type": "stream",
     "text": [
      "Using device: 0\n",
      "Device name: NVIDIA RTX A6000\n"
     ]
    },
    {
     "data": {
      "application/vnd.jupyter.widget-view+json": {
       "model_id": "49526655b7ce4f2184c14b505d680c96",
       "version_major": 2,
       "version_minor": 0
      },
      "text/plain": [
       "Map:   0%|          | 0/1800 [00:00<?, ? examples/s]"
      ]
     },
     "metadata": {},
     "output_type": "display_data"
    },
    {
     "data": {
      "application/vnd.jupyter.widget-view+json": {
       "model_id": "66ff36462449471081416574dd3a02e2",
       "version_major": 2,
       "version_minor": 0
      },
      "text/plain": [
       "Map:   0%|          | 0/100 [00:00<?, ? examples/s]"
      ]
     },
     "metadata": {},
     "output_type": "display_data"
    },
    {
     "data": {
      "application/vnd.jupyter.widget-view+json": {
       "model_id": "5e529ecf3833464782d96727b4151f1c",
       "version_major": 2,
       "version_minor": 0
      },
      "text/plain": [
       "Map:   0%|          | 0/100 [00:00<?, ? examples/s]"
      ]
     },
     "metadata": {},
     "output_type": "display_data"
    },
    {
     "data": {
      "application/vnd.jupyter.widget-view+json": {
       "model_id": "8df26f4210b5418088e8f773e6485be2",
       "version_major": 2,
       "version_minor": 0
      },
      "text/plain": [
       "Map:   0%|          | 0/1800 [00:00<?, ? examples/s]"
      ]
     },
     "metadata": {},
     "output_type": "display_data"
    },
    {
     "name": "stderr",
     "output_type": "stream",
     "text": [
      "/home/e19431/miniconda3/envs/venv/lib/python3.11/site-packages/transformers/tokenization_utils_base.py:3951: UserWarning: `as_target_tokenizer` is deprecated and will be removed in v5 of Transformers. You can tokenize your labels by using the argument `text_target` of the regular `__call__` method (either in the same call as your input texts if you use the same keyword arguments, or in a separate call.\n",
      "  warnings.warn(\n"
     ]
    },
    {
     "data": {
      "application/vnd.jupyter.widget-view+json": {
       "model_id": "f6f4c7f9de8549308ce6184dc90f94ee",
       "version_major": 2,
       "version_minor": 0
      },
      "text/plain": [
       "Map:   0%|          | 0/100 [00:00<?, ? examples/s]"
      ]
     },
     "metadata": {},
     "output_type": "display_data"
    },
    {
     "data": {
      "application/vnd.jupyter.widget-view+json": {
       "model_id": "14ad9c41e1a2441089490ee4aebe902f",
       "version_major": 2,
       "version_minor": 0
      },
      "text/plain": [
       "Map:   0%|          | 0/100 [00:00<?, ? examples/s]"
      ]
     },
     "metadata": {},
     "output_type": "display_data"
    },
    {
     "name": "stderr",
     "output_type": "stream",
     "text": [
      "/tmp/ipykernel_3714135/2302164862.py:95: FutureWarning: `tokenizer` is deprecated and will be removed in version 5.0.0 for `Trainer.__init__`. Use `processing_class` instead.\n",
      "  trainer = Trainer(\n"
     ]
    },
    {
     "data": {
      "text/html": [
       "\n",
       "    <div>\n",
       "      \n",
       "      <progress value='675' max='675' style='width:300px; height:20px; vertical-align: middle;'></progress>\n",
       "      [675/675 06:51, Epoch 3/3]\n",
       "    </div>\n",
       "    <table border=\"1\" class=\"dataframe\">\n",
       "  <thead>\n",
       " <tr style=\"text-align: left;\">\n",
       "      <th>Step</th>\n",
       "      <th>Training Loss</th>\n",
       "    </tr>\n",
       "  </thead>\n",
       "  <tbody>\n",
       "    <tr>\n",
       "      <td>100</td>\n",
       "      <td>8.003000</td>\n",
       "    </tr>\n",
       "    <tr>\n",
       "      <td>200</td>\n",
       "      <td>5.277500</td>\n",
       "    </tr>\n",
       "    <tr>\n",
       "      <td>300</td>\n",
       "      <td>5.118800</td>\n",
       "    </tr>\n",
       "    <tr>\n",
       "      <td>400</td>\n",
       "      <td>5.048400</td>\n",
       "    </tr>\n",
       "    <tr>\n",
       "      <td>500</td>\n",
       "      <td>5.019200</td>\n",
       "    </tr>\n",
       "    <tr>\n",
       "      <td>600</td>\n",
       "      <td>4.994300</td>\n",
       "    </tr>\n",
       "  </tbody>\n",
       "</table><p>"
      ],
      "text/plain": [
       "<IPython.core.display.HTML object>"
      ]
     },
     "metadata": {},
     "output_type": "display_data"
    },
    {
     "name": "stderr",
     "output_type": "stream",
     "text": [
      "/home/e19431/miniconda3/envs/venv/lib/python3.11/site-packages/transformers/modeling_utils.py:3685: UserWarning: Moving the following attributes in the config to the generation config: {'early_stopping': True, 'num_beams': 4, 'no_repeat_ngram_size': 3, 'forced_bos_token_id': 0}. You are seeing this warning because you've set generation parameters in the model config, as opposed to in the generation config.\n",
      "  warnings.warn(\n"
     ]
    },
    {
     "data": {
      "text/plain": [
       "TrainOutput(global_step=675, training_loss=5.509608832465278, metrics={'train_runtime': 412.6271, 'train_samples_per_second': 13.087, 'train_steps_per_second': 1.636, 'total_flos': 5851182425702400.0, 'train_loss': 5.509608832465278, 'epoch': 3.0})"
      ]
     },
     "execution_count": 21,
     "metadata": {},
     "output_type": "execute_result"
    }
   ],
   "source": [
    "import re\n",
    "from transformers import AutoTokenizer, AutoModelForSeq2SeqLM, Trainer, TrainingArguments\n",
    "\n",
    "torch.cuda.set_device(0)\n",
    "print(\"Using device:\", torch.cuda.current_device())\n",
    "print(\"Device name:\", torch.cuda.get_device_name(torch.cuda.current_device()))\n",
    "\n",
    "# Updated preprocessing function\n",
    "def preprocess_record(example):\n",
    "    # Convert input fields to a flat string\n",
    "    fields = [\n",
    "        f\"Patient ID: {example.get('patient_id', '')}\",\n",
    "        f\"Age: {example.get('age', '')}\",\n",
    "        f\"Gender: {example.get('gender', '')}\",\n",
    "        f\"Admission Date: {example.get('admission_date', '')}\",\n",
    "        f\"Discharge Date: {example.get('discharge_date', '')}\",\n",
    "        f\"Primary Diagnosis: {example.get('primary_diagnosis', '')}\",\n",
    "        f\"Procedures: {', '.join(example.get('procedures', []))}\",\n",
    "        f\"Medications: {', '.join(example.get('medications', []))}\",\n",
    "        f\"Follow Up Instructions: {example.get('follow_up_instructions', '')}\",\n",
    "    ]\n",
    "    \n",
    "    input_text = \" | \".join(fields).lower()\n",
    "    target_text = example.get(\"summary\", \"\").lower()\n",
    "\n",
    "    # Optional cleanup (can keep as-is too)\n",
    "    input_text = re.sub(r'[^a-z0-9\\s.,:?-]', '', input_text)\n",
    "    target_text = re.sub(r'[^a-z0-9\\s.,:?-]', '', target_text)\n",
    "\n",
    "    return {\"input_text\": input_text, \"target_text\": target_text}\n",
    "\n",
    "# Apply preprocessing\n",
    "processed_dataset = dataset.map(preprocess_record)\n",
    "\n",
    "# Load tokenizer\n",
    "tokenizer = AutoTokenizer.from_pretrained(\"facebook/bart-large\")\n",
    "\n",
    "# Tokenization\n",
    "def tokenize_function(example):\n",
    "    inputs = tokenizer(\n",
    "        example[\"input_text\"],\n",
    "        truncation=True,\n",
    "        padding=\"max_length\",\n",
    "        max_length=512,\n",
    "        return_tensors=\"pt\"\n",
    "    )\n",
    "\n",
    "    with tokenizer.as_target_tokenizer():\n",
    "        targets = tokenizer(\n",
    "            example[\"target_text\"],\n",
    "            truncation=True,\n",
    "            padding=\"max_length\",\n",
    "            max_length=256,\n",
    "            return_tensors=\"pt\"\n",
    "        )\n",
    "\n",
    "    inputs[\"labels\"] = targets[\"input_ids\"].squeeze()\n",
    "    return inputs\n",
    "\n",
    "# Tokenize all splits\n",
    "tokenized_dataset = processed_dataset.map(tokenize_function, batched=True)\n",
    "\n",
    "# Remove unused columns and set torch format\n",
    "tokenized_dataset = tokenized_dataset.remove_columns([\"input_text\", \"target_text\"])\n",
    "tokenized_dataset.set_format(\"torch\")\n",
    "\n",
    "# Split\n",
    "train_dataset = tokenized_dataset[\"train\"]\n",
    "eval_dataset = tokenized_dataset[\"validation\"]\n",
    "\n",
    "# Load BART model\n",
    "model = AutoModelForSeq2SeqLM.from_pretrained(\"facebook/bart-large\", use_safetensors=True)\n",
    "\n",
    "# Freeze encoder\n",
    "for param in model.model.encoder.parameters():\n",
    "    param.requires_grad = False\n",
    "\n",
    "# Optionally freeze decoder except last layer\n",
    "for layer in model.model.decoder.layers[:-1]:\n",
    "    for param in layer.parameters():\n",
    "        param.requires_grad = False\n",
    "\n",
    "# Training arguments\n",
    "training_args = TrainingArguments(\n",
    "    output_dir=\"./bart-discharge-summary\",\n",
    "    do_eval=True,\n",
    "    per_device_train_batch_size=8,\n",
    "    per_device_eval_batch_size=8,\n",
    "    num_train_epochs=3,\n",
    "    logging_dir=\"./logs\",\n",
    "    logging_steps=100,\n",
    ")\n",
    "\n",
    "# Trainer\n",
    "trainer = Trainer(\n",
    "    model=model,\n",
    "    args=training_args,\n",
    "    train_dataset=train_dataset,\n",
    "    eval_dataset=eval_dataset,\n",
    "    tokenizer=tokenizer,\n",
    ")\n",
    "\n",
    "# Train\n",
    "trainer.train()"
   ]
  },
  {
   "cell_type": "code",
   "execution_count": 22,
   "id": "d5615070-85c0-4640-b840-4bfb59bc1cdc",
   "metadata": {},
   "outputs": [
    {
     "data": {
      "text/plain": [
       "('./bart-clinical-letter-finetuned-final/tokenizer_config.json',\n",
       " './bart-clinical-letter-finetuned-final/special_tokens_map.json',\n",
       " './bart-clinical-letter-finetuned-final/vocab.json',\n",
       " './bart-clinical-letter-finetuned-final/merges.txt',\n",
       " './bart-clinical-letter-finetuned-final/added_tokens.json',\n",
       " './bart-clinical-letter-finetuned-final/tokenizer.json')"
      ]
     },
     "execution_count": 22,
     "metadata": {},
     "output_type": "execute_result"
    }
   ],
   "source": [
    "# Save the fine-tuned model\n",
    "model.save_pretrained(\"./bart-clinical-letter-finetuned-final\")\n",
    "tokenizer.save_pretrained(\"./bart-clinical-letter-finetuned-final\")"
   ]
  },
  {
   "cell_type": "code",
   "execution_count": 23,
   "id": "ed4489d0-87b9-4520-abf7-9a04e5cbf8de",
   "metadata": {},
   "outputs": [
    {
     "name": "stdout",
     "output_type": "stream",
     "text": [
      "\n",
      "Generated Summary: 82-year-old female admitted for stroke. procedures performed include ct scan, thrombolysis, mri brain. treated with clopidogrel, atorvastatin, amlodipine. discharged in stable condition. follow up in 1 week with primary physician. adhere to prescribed medications.\n",
      "\n",
      "Reference Summary: 82-year-old female admitted for stroke. procedures performed include ct scan, thrombolysis, mri brain. treated with clopidogrel, atorvastatin, amlodipine. discharged in stable condition. follow up in 1 week with primary physician. adhere to prescribed medications.\n"
     ]
    }
   ],
   "source": [
    "import torch\n",
    "import re\n",
    "from transformers import AutoModelForSeq2SeqLM, AutoTokenizer\n",
    "\n",
    "# Load the fine-tuned model and tokenizer\n",
    "model = AutoModelForSeq2SeqLM.from_pretrained(\"./bart-clinical-letter-finetuned-final\")\n",
    "tokenizer = AutoTokenizer.from_pretrained(\"./bart-clinical-letter-finetuned-final\")\n",
    "\n",
    "# Device\n",
    "device = torch.device(\"cuda:0\" if torch.cuda.is_available() else \"cpu\")\n",
    "model.to(device)\n",
    "\n",
    "# Same preprocessing as training\n",
    "def preprocess_record(example):\n",
    "    fields = [\n",
    "        f\"Patient ID: {example.get('patient_id', '')}\",\n",
    "        f\"Age: {example.get('age', '')}\",\n",
    "        f\"Gender: {example.get('gender', '')}\",\n",
    "        f\"Admission Date: {example.get('admission_date', '')}\",\n",
    "        f\"Discharge Date: {example.get('discharge_date', '')}\",\n",
    "        f\"Primary Diagnosis: {example.get('primary_diagnosis', '')}\",\n",
    "        f\"Procedures: {', '.join(example.get('procedures', []))}\",\n",
    "        f\"Medications: {', '.join(example.get('medications', []))}\",\n",
    "        f\"Follow Up Instructions: {example.get('follow_up_instructions', '')}\",\n",
    "    ]\n",
    "    input_text = \" | \".join(fields).lower()\n",
    "    input_text = re.sub(r'[^a-z0-9\\s.,:?-]', '', input_text)\n",
    "    return input_text\n",
    "\n",
    "# Inference function\n",
    "def generate_summary(example, model, tokenizer, device=device):\n",
    "    input_text = preprocess_record(example)\n",
    "    \n",
    "    inputs = tokenizer(\n",
    "        input_text,\n",
    "        return_tensors=\"pt\",\n",
    "        truncation=True,\n",
    "        padding=\"max_length\",\n",
    "        max_length=512\n",
    "    )\n",
    "    inputs = {k: v.to(device) for k, v in inputs.items()}\n",
    "\n",
    "    outputs = model.generate(\n",
    "        inputs[\"input_ids\"],\n",
    "        max_length=256,\n",
    "        num_beams=4,\n",
    "        early_stopping=True\n",
    "    )\n",
    "    \n",
    "    return tokenizer.decode(outputs[0], skip_special_tokens=True)\n",
    "\n",
    "# Example from test set\n",
    "sample_example = processed_dataset[\"test\"][2]\n",
    "generated = generate_summary(sample_example, model, tokenizer)\n",
    "\n",
    "print(\"\\nGenerated Summary:\", generated)\n",
    "print(\"\\nReference Summary:\", sample_example['target_text'])"
   ]
  },
  {
   "cell_type": "code",
   "execution_count": 25,
   "id": "aa9774b2-d5de-4966-a869-9d1315a32e8c",
   "metadata": {},
   "outputs": [
    {
     "name": "stdout",
     "output_type": "stream",
     "text": [
      "Results saved to 'transfer_learning_results.csv' ✅\n"
     ]
    }
   ],
   "source": [
    "import pandas as pd\n",
    "import torch\n",
    "import re\n",
    "from transformers import AutoModelForSeq2SeqLM, AutoTokenizer\n",
    "\n",
    "# Load the fine-tuned model and tokenizer\n",
    "model = AutoModelForSeq2SeqLM.from_pretrained(\"./bart-clinical-letter-finetuned-final\")\n",
    "tokenizer = AutoTokenizer.from_pretrained(\"./bart-clinical-letter-finetuned-final\")\n",
    "\n",
    "# Set device explicitly\n",
    "device = torch.device(\"cuda:0\" if torch.cuda.is_available() else \"cpu\")\n",
    "model.to(device)\n",
    "model.eval()\n",
    "\n",
    "# Same preprocessing function used during training\n",
    "def preprocess_record(example):\n",
    "    fields = [\n",
    "        f\"Patient ID: {example.get('patient_id', '')}\",\n",
    "        f\"Age: {example.get('age', '')}\",\n",
    "        f\"Gender: {example.get('gender', '')}\",\n",
    "        f\"Admission Date: {example.get('admission_date', '')}\",\n",
    "        f\"Discharge Date: {example.get('discharge_date', '')}\",\n",
    "        f\"Primary Diagnosis: {example.get('primary_diagnosis', '')}\",\n",
    "        f\"Procedures: {', '.join(example.get('procedures', []))}\",\n",
    "        f\"Medications: {', '.join(example.get('medications', []))}\",\n",
    "        f\"Follow Up Instructions: {example.get('follow_up_instructions', '')}\",\n",
    "    ]\n",
    "    input_text = \" | \".join(fields).lower()\n",
    "    input_text = re.sub(r'[^a-z0-9\\s.,:?-]', '', input_text)\n",
    "    return input_text\n",
    "\n",
    "# Inference function\n",
    "def generate_soap(example, model, tokenizer, device=device):\n",
    "    input_text = preprocess_record(example)\n",
    "    inputs = tokenizer(\n",
    "        input_text,\n",
    "        return_tensors=\"pt\",\n",
    "        truncation=True,\n",
    "        padding=\"max_length\",\n",
    "        max_length=512\n",
    "    )\n",
    "    inputs = {k: v.to(device) for k, v in inputs.items()}\n",
    "\n",
    "    with torch.no_grad():\n",
    "        outputs = model.generate(\n",
    "            inputs[\"input_ids\"],\n",
    "            max_length=256,\n",
    "            num_beams=4,\n",
    "            early_stopping=True\n",
    "        )\n",
    "    \n",
    "    return tokenizer.decode(outputs[0], skip_special_tokens=True), input_text\n",
    "\n",
    "# Generate and collect results for 100 samples\n",
    "results = []\n",
    "\n",
    "for idx in range(100):\n",
    "    sample = processed_dataset[\"test\"][idx]\n",
    "    reference_soap = sample.get(\"summary\", \"\")\n",
    "    generated_soap, input_text = generate_soap(sample, model, tokenizer)\n",
    "\n",
    "    results.append({\n",
    "        \"Structured Input\": input_text,\n",
    "        \"Reference Summary\": reference_soap,\n",
    "        \"Generated Summary\": generated_soap\n",
    "    })\n",
    "\n",
    "# Save results to CSV\n",
    "df = pd.DataFrame(results)\n",
    "df.to_csv(\"transfer_learning_results.csv\", index=False)\n",
    "\n",
    "print(\"Results saved to 'transfer_learning_results.csv' ✅\")"
   ]
  },
  {
   "cell_type": "code",
   "execution_count": 26,
   "id": "e747c38f-8d33-4f99-8693-a72908ac11ea",
   "metadata": {},
   "outputs": [
    {
     "name": "stdout",
     "output_type": "stream",
     "text": [
      "\n",
      "🔍 ROUGE Results:\n",
      "rouge1: 1.0000\n",
      "rouge2: 1.0000\n",
      "rougeL: 1.0000\n",
      "rougeLsum: 1.0000\n",
      "\n",
      "🔍 BLEU Result:\n",
      "BLEU score: 0.4639\n"
     ]
    },
    {
     "name": "stderr",
     "output_type": "stream",
     "text": [
      "Some weights of RobertaModel were not initialized from the model checkpoint at roberta-large and are newly initialized: ['pooler.dense.bias', 'pooler.dense.weight']\n",
      "You should probably TRAIN this model on a down-stream task to be able to use it for predictions and inference.\n"
     ]
    },
    {
     "name": "stdout",
     "output_type": "stream",
     "text": [
      "\n",
      "🔍 BERTScore Averages:\n",
      "precision: 0.9588\n",
      "recall: 0.9550\n",
      "f1: 0.9569\n"
     ]
    }
   ],
   "source": [
    "import evaluate\n",
    "import pandas as pd\n",
    "\n",
    "# Load your saved CSV\n",
    "df = pd.read_csv(\"transfer_learning_results.csv\")\n",
    "\n",
    "# Extract generated and reference texts\n",
    "generated_list = df[\"Generated Summary\"].tolist()\n",
    "reference_list = df[\"Reference Summary\"].tolist()\n",
    "\n",
    "# Load evaluation metrics\n",
    "rouge = evaluate.load(\"rouge\")\n",
    "bleu = evaluate.load(\"bleu\")\n",
    "bertscore = evaluate.load(\"bertscore\")\n",
    "\n",
    "# Compute ROUGE\n",
    "rouge_result = rouge.compute(predictions=generated_list, references=reference_list)\n",
    "print(\"\\n🔍 ROUGE Results:\")\n",
    "for key, value in rouge_result.items():\n",
    "    print(f\"{key}: {value:.4f}\")\n",
    "\n",
    "# Compute BLEU (expects references as list of lists)\n",
    "bleu_result = bleu.compute(predictions=generated_list, references=[[ref] for ref in reference_list])\n",
    "print(\"\\n🔍 BLEU Result:\")\n",
    "print(f\"BLEU score: {bleu_result['bleu']:.4f}\")\n",
    "\n",
    "# Compute BERTScore\n",
    "bertscore_result = bertscore.compute(predictions=generated_list, references=reference_list, lang=\"en\")\n",
    "bertscore_avg = {\n",
    "    \"precision\": sum(bertscore_result[\"precision\"]) / len(bertscore_result[\"precision\"]),\n",
    "    \"recall\": sum(bertscore_result[\"recall\"]) / len(bertscore_result[\"recall\"]),\n",
    "    \"f1\": sum(bertscore_result[\"f1\"]) / len(bertscore_result[\"f1\"])\n",
    "}\n",
    "print(\"\\n🔍 BERTScore Averages:\")\n",
    "for key, value in bertscore_avg.items():\n",
    "    print(f\"{key}: {value:.4f}\")"
   ]
  }
 ],
 "metadata": {
  "kernelspec": {
   "display_name": "Python 3 (ipykernel)",
   "language": "python",
   "name": "python3"
  },
  "language_info": {
   "codemirror_mode": {
    "name": "ipython",
    "version": 3
   },
   "file_extension": ".py",
   "mimetype": "text/x-python",
   "name": "python",
   "nbconvert_exporter": "python",
   "pygments_lexer": "ipython3",
   "version": "3.11.13"
  }
 },
 "nbformat": 4,
 "nbformat_minor": 5
}
